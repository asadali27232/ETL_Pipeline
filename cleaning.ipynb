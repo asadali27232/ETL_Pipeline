{
 "cells": [
  {
   "cell_type": "code",
   "execution_count": 41,
   "id": "3f9281f7",
   "metadata": {},
   "outputs": [
    {
     "name": "stdout",
     "output_type": "stream",
     "text": [
      "📑 Folder Validation Report\n"
     ]
    },
    {
     "data": {
      "application/vnd.microsoft.datawrangler.viewer.v0+json": {
       "columns": [
        {
         "name": "index",
         "rawType": "int64",
         "type": "integer"
        },
        {
         "name": "Folder",
         "rawType": "object",
         "type": "string"
        },
        {
         "name": "CSV_Files",
         "rawType": "object",
         "type": "string"
        },
        {
         "name": "CSV_Count",
         "rawType": "int64",
         "type": "integer"
        },
        {
         "name": "Status",
         "rawType": "object",
         "type": "string"
        },
        {
         "name": "Notes",
         "rawType": "object",
         "type": "string"
        }
       ],
       "ref": "ad787924-84f7-4f56-933f-fb961f15612f",
       "rows": [
        [
         "0",
         "1-aZqxTN1RpLwmfwxeGCMvmDiZo5mpKsS",
         "Okanagan College Courses.csv",
         "1",
         "GOOD",
         ""
        ],
        [
         "1",
         "1-pYDlcnnI_ZsHLcBnRMNjrCZZIW3HAk4",
         "University of Rhode Island Courses.csv",
         "1",
         "GOOD",
         ""
        ],
        [
         "2",
         "1-xfPxe6bhebWSWOJX22RVyPqNqveQZDq",
         "Craleton University Courses.csv",
         "1",
         "GOOD",
         ""
        ],
        [
         "3",
         "1-Y5aXdseCkhY_AiqhIFmQcSl4xGbWOGV",
         "University of Bologna Courses.csv",
         "1",
         "GOOD",
         ""
        ],
        [
         "4",
         "10IZEzyvflhrSY3BU-6cGpvz7QWdMVR9O",
         "Free University of Berlin Courses.csv",
         "1",
         "GOOD",
         ""
        ],
        [
         "5",
         "10vEuC8Wbt4Y6aF1phbFAwnuIjLSgXmof",
         "University of Sydney Courses.csv",
         "1",
         "GOOD",
         ""
        ],
        [
         "6",
         "10Xcwi6Qa5dYE4ACsEzAkbFEUvQZBPJ8d",
         "Trent University Courses.csv",
         "1",
         "GOOD",
         ""
        ],
        [
         "7",
         "11-78843GuAEaGclvTN47VfOMk_4iseRX",
         "Liverpool John Moores University Courses.csv",
         "1",
         "GOOD",
         ""
        ],
        [
         "8",
         "11oA98-DasZncQ2Hr0466LAQV15i7XiZ3",
         "CQ University Courses.csv",
         "1",
         "GOOD",
         ""
        ],
        [
         "9",
         "128MrwfNlgOLXhJWSWy19kgJspddtlwbj",
         "University of Missouri Courses.csv",
         "1",
         "GOOD",
         ""
        ],
        [
         "10",
         "12DQpn0qyfAziHBdqZxRXvE13dOFF3ai8",
         "University of Pisa Courses.csv",
         "1",
         "GOOD",
         ""
        ],
        [
         "11",
         "12hdVxOuI5ylBcHtYDShxt76mLlPiKoP4",
         "Georgia State University Courses.csv",
         "1",
         "GOOD",
         ""
        ],
        [
         "12",
         "12HGOYVM59Ea9STLFIH8D20tdyApKfJGl",
         "Technological University Dublin Courses.csv",
         "1",
         "GOOD",
         ""
        ],
        [
         "13",
         "12r4V8E_X6ibED_5azp43D0kPvzmJkZ6P",
         "Pepperdine University Courses.csv",
         "1",
         "GOOD",
         ""
        ],
        [
         "14",
         "12uKbKhr_dU8SKIdDpgdb3AKJVShE_9M0",
         "Johnson and Wales University Courses.csv",
         "1",
         "GOOD",
         ""
        ],
        [
         "15",
         "133Y-yfbjSaLNmSovUXCGqICS80-wwx0f",
         "universityofderby Courses.csv",
         "1",
         "GOOD",
         ""
        ],
        [
         "16",
         "13CAErHmQHNyFj4HjgBZ1I1PZivDJBy5V",
         "University of Colorado Courses.csv",
         "1",
         "GOOD",
         ""
        ],
        [
         "17",
         "13evKbk6405dt5QUCK0kZO1W2WruVEIDS",
         "University of New Mexico Courses.csv",
         "1",
         "GOOD",
         ""
        ],
        [
         "18",
         "13eXhFtZ3z-oS_zSnDItKRvkSJcCizhb8",
         "Macquarie University Courses.csv",
         "1",
         "GOOD",
         ""
        ],
        [
         "19",
         "13FA5qUPhRuxDyyspHfxkDDnm-QR5XkYQ",
         "ferligh Courses.csv",
         "1",
         "GOOD",
         ""
        ],
        [
         "20",
         "13FoRAFHoTmaLiv9o1SI3JQcJ92F6oPY3",
         "Suffolk University Courses.csv",
         "1",
         "GOOD",
         ""
        ],
        [
         "21",
         "13SlNv2tBUOGH9XIDQ6RZRAbQrrV0gwZM",
         "Leeds Trinity University Courses.csv",
         "1",
         "GOOD",
         ""
        ],
        [
         "22",
         "13SyirNikTVbBVLE-_8-jQagfy5hnftzY",
         "Auburn University Courses.csv",
         "1",
         "GOOD",
         ""
        ],
        [
         "23",
         "147l5wXGSqI0P6V_Ow6D2fifeb_lIu7M7",
         "Northeastern University Courses.csv",
         "1",
         "GOOD",
         ""
        ],
        [
         "24",
         "149vH2O8GIedsioIMc8ucJYMUBXsTKGEL",
         "University of Kentucky Courses.csv",
         "1",
         "GOOD",
         ""
        ],
        [
         "25",
         "14EgBF1Ryx34qkZ1C-lgFu0QQlNWQ-F6K",
         "Queen Margaret University Edinburgh Courses.csv",
         "1",
         "GOOD",
         ""
        ],
        [
         "26",
         "14GcYri9cpj2MUNl0hMTyPtR2jkyTzf4A",
         "trento Courses.csv",
         "1",
         "GOOD",
         ""
        ],
        [
         "27",
         "14IzHIquf9zrtr7oSn5RX4nSRILBICCDc",
         "Canadore College Courses.csv",
         "1",
         "GOOD",
         ""
        ],
        [
         "28",
         "14jkB5P0QlVAtQfCNW1YWX2ppe46flh3P",
         "York University Courses.csv",
         "1",
         "GOOD",
         ""
        ],
        [
         "29",
         "14JQNP743s0xukD8CMsQYRd7RpK77mSfV",
         "University of Hertfordshire Courses.csv",
         "1",
         "GOOD",
         ""
        ],
        [
         "30",
         "14LkoFm0RF-Pa8gPfzl6Yt4vQDYOKGdlv",
         "University of Gottingen Courses.csv",
         "1",
         "GOOD",
         ""
        ],
        [
         "31",
         "14W2Xb4rhml_4Rbfuq8tLJlHEMGM6iJ0u",
         "Texas State University Courses.csv",
         "1",
         "GOOD",
         ""
        ],
        [
         "32",
         "150m--ZXb0mA_CSdiBwwxQfc2db54bPuu",
         "Avondale University Courses.csv",
         "1",
         "GOOD",
         ""
        ],
        [
         "33",
         "15ErwcAr7g1rEmHOrqA5HBr9AVPLvWbgt",
         "Northumbria University Courses.csv",
         "1",
         "GOOD",
         ""
        ],
        [
         "34",
         "15UTEMiv84mjYDpWITfqOInBVLk4hE8mB",
         "University of Lincoln Courses.csv",
         "1",
         "GOOD",
         ""
        ],
        [
         "35",
         "15xiw7YFhPIadpvSanlLgtNJCMY7YL3Hl",
         "Cranfield University Courses.csv",
         "1",
         "GOOD",
         ""
        ],
        [
         "36",
         "164mSYISU0UEb15x3ZSL18k96WziKZ7v3",
         "University of New Castle Courses.csv",
         "1",
         "GOOD",
         ""
        ],
        [
         "37",
         "166F-XIt7Uw1hxQwJqpV-xAWBRorao9Ll",
         "Liverpool Hope University Courses.csv",
         "1",
         "GOOD",
         ""
        ],
        [
         "38",
         "16Gh16u59Z7xU3_Lux2akYLj7PjTuof4o",
         "Johns Hopkins University Courses.csv",
         "1",
         "GOOD",
         ""
        ],
        [
         "39",
         "16g_UYmwFTgzILynqMuItnppKQ0tPJzaV",
         "University of Tasmania Courses.csv",
         "1",
         "GOOD",
         ""
        ],
        [
         "40",
         "16jxPKgtm0io6IamYI83PW9y1Je4Pg5DI",
         "Niagara University Courses.csv",
         "1",
         "GOOD",
         ""
        ],
        [
         "41",
         "16kc0im08lGGkVpwHFWhNFhaJj6d4-EBJ",
         "University of Florence Courses.csv",
         "1",
         "GOOD",
         ""
        ],
        [
         "42",
         "16tDbcHZRqUKOGvcmMNliA0ad3bjrvLZF",
         "Edith Cowan University Courses.csv",
         "1",
         "GOOD",
         ""
        ],
        [
         "43",
         "16VxksViyFEn7OokkxjUgkQhXBgFMyTHd",
         "De Montfort University Leicester Courses.csv",
         "1",
         "GOOD",
         ""
        ],
        [
         "44",
         "170kdoxtggdqmsGKo5TZhw3k-ou_H_bWx",
         "Kent State University Courses.csv",
         "1",
         "GOOD",
         ""
        ],
        [
         "45",
         "17eMPahLNesfQrZu7Ek8nw_EDLZyn9EDx",
         "Missouri University of Science and Technology Courses.csv",
         "1",
         "GOOD",
         ""
        ],
        [
         "46",
         "17mR6G8_Scy4cBAsCYTYbZsVBLto4GqSW",
         "Arden University Courses.csv",
         "1",
         "GOOD",
         ""
        ],
        [
         "47",
         "17qxov-f9gUhz3gxHqG9WuLsGSRdWQ9j-",
         "University of Southern Queensland Courses.csv",
         "1",
         "GOOD",
         ""
        ],
        [
         "48",
         "17vKOXh4EMKKPvfWnuxJlQ9NQSex5I4GR",
         "Ara Institute of Canterbury Courses.csv",
         "1",
         "GOOD",
         ""
        ],
        [
         "49",
         "17WlYbXh-R_8jvutx7KXTb0G5Rr8Yy0Id",
         "University of North Florida Courses.csv",
         "1",
         "GOOD",
         ""
        ]
       ],
       "shape": {
        "columns": 5,
        "rows": 352
       }
      },
      "text/html": [
       "<div>\n",
       "<style scoped>\n",
       "    .dataframe tbody tr th:only-of-type {\n",
       "        vertical-align: middle;\n",
       "    }\n",
       "\n",
       "    .dataframe tbody tr th {\n",
       "        vertical-align: top;\n",
       "    }\n",
       "\n",
       "    .dataframe thead th {\n",
       "        text-align: right;\n",
       "    }\n",
       "</style>\n",
       "<table border=\"1\" class=\"dataframe\">\n",
       "  <thead>\n",
       "    <tr style=\"text-align: right;\">\n",
       "      <th></th>\n",
       "      <th>Folder</th>\n",
       "      <th>CSV_Files</th>\n",
       "      <th>CSV_Count</th>\n",
       "      <th>Status</th>\n",
       "      <th>Notes</th>\n",
       "    </tr>\n",
       "  </thead>\n",
       "  <tbody>\n",
       "    <tr>\n",
       "      <th>0</th>\n",
       "      <td>1-aZqxTN1RpLwmfwxeGCMvmDiZo5mpKsS</td>\n",
       "      <td>Okanagan College Courses.csv</td>\n",
       "      <td>1</td>\n",
       "      <td>GOOD</td>\n",
       "      <td></td>\n",
       "    </tr>\n",
       "    <tr>\n",
       "      <th>1</th>\n",
       "      <td>1-pYDlcnnI_ZsHLcBnRMNjrCZZIW3HAk4</td>\n",
       "      <td>University of Rhode Island Courses.csv</td>\n",
       "      <td>1</td>\n",
       "      <td>GOOD</td>\n",
       "      <td></td>\n",
       "    </tr>\n",
       "    <tr>\n",
       "      <th>2</th>\n",
       "      <td>1-xfPxe6bhebWSWOJX22RVyPqNqveQZDq</td>\n",
       "      <td>Craleton University Courses.csv</td>\n",
       "      <td>1</td>\n",
       "      <td>GOOD</td>\n",
       "      <td></td>\n",
       "    </tr>\n",
       "    <tr>\n",
       "      <th>3</th>\n",
       "      <td>1-Y5aXdseCkhY_AiqhIFmQcSl4xGbWOGV</td>\n",
       "      <td>University of Bologna Courses.csv</td>\n",
       "      <td>1</td>\n",
       "      <td>GOOD</td>\n",
       "      <td></td>\n",
       "    </tr>\n",
       "    <tr>\n",
       "      <th>4</th>\n",
       "      <td>10IZEzyvflhrSY3BU-6cGpvz7QWdMVR9O</td>\n",
       "      <td>Free University of Berlin Courses.csv</td>\n",
       "      <td>1</td>\n",
       "      <td>GOOD</td>\n",
       "      <td></td>\n",
       "    </tr>\n",
       "    <tr>\n",
       "      <th>...</th>\n",
       "      <td>...</td>\n",
       "      <td>...</td>\n",
       "      <td>...</td>\n",
       "      <td>...</td>\n",
       "      <td>...</td>\n",
       "    </tr>\n",
       "    <tr>\n",
       "      <th>347</th>\n",
       "      <td>University of Galway</td>\n",
       "      <td>University of Galway.csv</td>\n",
       "      <td>1</td>\n",
       "      <td>GOOD</td>\n",
       "      <td></td>\n",
       "    </tr>\n",
       "    <tr>\n",
       "      <th>348</th>\n",
       "      <td>University of Lethbridge</td>\n",
       "      <td>University of Lethbridge.csv</td>\n",
       "      <td>1</td>\n",
       "      <td>GOOD</td>\n",
       "      <td></td>\n",
       "    </tr>\n",
       "    <tr>\n",
       "      <th>349</th>\n",
       "      <td>University of Limerick</td>\n",
       "      <td>University of Limerick.csv</td>\n",
       "      <td>1</td>\n",
       "      <td>GOOD</td>\n",
       "      <td></td>\n",
       "    </tr>\n",
       "    <tr>\n",
       "      <th>350</th>\n",
       "      <td>University of New Burnswick</td>\n",
       "      <td>University of New Burnswick.csv</td>\n",
       "      <td>1</td>\n",
       "      <td>GOOD</td>\n",
       "      <td></td>\n",
       "    </tr>\n",
       "    <tr>\n",
       "      <th>351</th>\n",
       "      <td>University of Waikato</td>\n",
       "      <td>University of Waikato.csv</td>\n",
       "      <td>1</td>\n",
       "      <td>GOOD</td>\n",
       "      <td></td>\n",
       "    </tr>\n",
       "  </tbody>\n",
       "</table>\n",
       "<p>352 rows × 5 columns</p>\n",
       "</div>"
      ],
      "text/plain": [
       "                                Folder  \\\n",
       "0    1-aZqxTN1RpLwmfwxeGCMvmDiZo5mpKsS   \n",
       "1    1-pYDlcnnI_ZsHLcBnRMNjrCZZIW3HAk4   \n",
       "2    1-xfPxe6bhebWSWOJX22RVyPqNqveQZDq   \n",
       "3    1-Y5aXdseCkhY_AiqhIFmQcSl4xGbWOGV   \n",
       "4    10IZEzyvflhrSY3BU-6cGpvz7QWdMVR9O   \n",
       "..                                 ...   \n",
       "347               University of Galway   \n",
       "348           University of Lethbridge   \n",
       "349             University of Limerick   \n",
       "350        University of New Burnswick   \n",
       "351              University of Waikato   \n",
       "\n",
       "                                  CSV_Files  CSV_Count Status Notes  \n",
       "0              Okanagan College Courses.csv          1   GOOD        \n",
       "1    University of Rhode Island Courses.csv          1   GOOD        \n",
       "2           Craleton University Courses.csv          1   GOOD        \n",
       "3         University of Bologna Courses.csv          1   GOOD        \n",
       "4     Free University of Berlin Courses.csv          1   GOOD        \n",
       "..                                      ...        ...    ...   ...  \n",
       "347                University of Galway.csv          1   GOOD        \n",
       "348            University of Lethbridge.csv          1   GOOD        \n",
       "349              University of Limerick.csv          1   GOOD        \n",
       "350         University of New Burnswick.csv          1   GOOD        \n",
       "351               University of Waikato.csv          1   GOOD        \n",
       "\n",
       "[352 rows x 5 columns]"
      ]
     },
     "metadata": {},
     "output_type": "display_data"
    },
    {
     "name": "stdout",
     "output_type": "stream",
     "text": [
      "⚠️ Content Validation Issues\n"
     ]
    },
    {
     "data": {
      "application/vnd.microsoft.datawrangler.viewer.v0+json": {
       "columns": [
        {
         "name": "index",
         "rawType": "int64",
         "type": "integer"
        },
        {
         "name": "Status",
         "rawType": "object",
         "type": "string"
        }
       ],
       "ref": "ba955b57-f698-442f-9e1c-f29882007cbc",
       "rows": [
        [
         "0",
         "No issues found ✅"
        ]
       ],
       "shape": {
        "columns": 1,
        "rows": 1
       }
      },
      "text/html": [
       "<div>\n",
       "<style scoped>\n",
       "    .dataframe tbody tr th:only-of-type {\n",
       "        vertical-align: middle;\n",
       "    }\n",
       "\n",
       "    .dataframe tbody tr th {\n",
       "        vertical-align: top;\n",
       "    }\n",
       "\n",
       "    .dataframe thead th {\n",
       "        text-align: right;\n",
       "    }\n",
       "</style>\n",
       "<table border=\"1\" class=\"dataframe\">\n",
       "  <thead>\n",
       "    <tr style=\"text-align: right;\">\n",
       "      <th></th>\n",
       "      <th>Status</th>\n",
       "    </tr>\n",
       "  </thead>\n",
       "  <tbody>\n",
       "    <tr>\n",
       "      <th>0</th>\n",
       "      <td>No issues found ✅</td>\n",
       "    </tr>\n",
       "  </tbody>\n",
       "</table>\n",
       "</div>"
      ],
      "text/plain": [
       "              Status\n",
       "0  No issues found ✅"
      ]
     },
     "metadata": {},
     "output_type": "display_data"
    },
    {
     "name": "stdout",
     "output_type": "stream",
     "text": [
      "\n",
      "📊 CSV Headers Overview\n"
     ]
    },
    {
     "data": {
      "application/vnd.microsoft.datawrangler.viewer.v0+json": {
       "columns": [
        {
         "name": "index",
         "rawType": "int64",
         "type": "integer"
        },
        {
         "name": "Folder",
         "rawType": "object",
         "type": "string"
        },
        {
         "name": "CSV_File",
         "rawType": "object",
         "type": "string"
        },
        {
         "name": "Headers",
         "rawType": "object",
         "type": "unknown"
        }
       ],
       "ref": "aa10fce8-354f-439a-a2a7-6aea672847bd",
       "rows": [
        [
         "0",
         "1-aZqxTN1RpLwmfwxeGCMvmDiZo5mpKsS",
         "Okanagan College Courses.csv",
         "['Course Link', 'Course Title', 'Required IELTS Score', 'Required PTE Score', 'Required TOEFL Score', 'Entry Requirement', 'Education Level', 'Course Level', 'Intake', 'Duration', 'Start Date', 'Degree Format', 'Location/Campus', 'Annual Tuition Fee', 'Initial Deposit', 'Application Fee', 'Overview', 'Course Structure', 'Year 1', 'Year 2', 'Year 3', 'Year 4', 'Year 5', 'Year 6', 'Career Opportunity 1', 'Career Opportunity 2', 'Career Opportunity 3', 'Career Opportunity 4', 'Career Opportunity 5']"
        ],
        [
         "1",
         "1-pYDlcnnI_ZsHLcBnRMNjrCZZIW3HAk4",
         "University of Rhode Island Courses.csv",
         "['Course Link', 'Course Title', 'Required IELTS Score', 'Required PTE Score', 'Required TOEFL Score', 'Entry Requirement', 'Education Level', 'Course Level', 'Intake', 'Duration', 'Start Date', 'Degree Format', 'Location/Campus', 'Annual Tuition Fee', 'Initial Deposit', 'Application Fee', 'Overview', 'Course Structure', 'Year 1', 'Year 2', 'Year 3', 'Year 4', 'Year 5', 'Year 6', 'Career Opportunity 1', 'Career Opportunity 2', 'Career Opportunity 3', 'Career Opportunity 4', 'Career Opportunity 5']"
        ],
        [
         "2",
         "1-xfPxe6bhebWSWOJX22RVyPqNqveQZDq",
         "Craleton University Courses.csv",
         "['Course Link', 'Course Title', 'Required IELTS Score', 'Required PTE Score', 'Required TOEFL Score', 'Entry Requirement', 'Education Level', 'Course Level', 'Intake', 'Duration', 'Start Date', 'Degree Format', 'Location/Campus', 'Annual Tuition Fee', 'Initial Deposit', 'Application Fee', 'Overview', 'Course Structure', 'Year 1', 'Year 2', 'Year 3', 'Year 4', 'Year 5', 'Year 6', 'Career Opportunity 1', 'Career Opportunity 2', 'Career Opportunity 3', 'Career Opportunity 4', 'Career Opportunity 5']"
        ],
        [
         "3",
         "1-Y5aXdseCkhY_AiqhIFmQcSl4xGbWOGV",
         "University of Bologna Courses.csv",
         "['Course Link', 'Course Title', 'Required IELTS Score', 'Required PTE Score', 'Required TOEFL Score', 'Entry Requirement', 'Education Level', 'Course Level', 'Intake', 'Duration', 'Start Date', 'Degree Format', 'Location/Campus', 'Annual Tuition Fee', 'Initial Deposit', 'Application Fee', 'Regional Tax Fee', 'Overview', 'Course Structure', 'Year 1', 'Year 2', 'Year 3', 'Year 4', 'Year 5', 'Year 6', 'Career Opportunity 1', 'Career Opportunity 2', 'Career Opportunity 3', 'Career Opportunity 4', 'Career Opportunity 5']"
        ],
        [
         "4",
         "10IZEzyvflhrSY3BU-6cGpvz7QWdMVR9O",
         "Free University of Berlin Courses.csv",
         "['Course Link', 'Course Title', 'Required IELTS Score', 'Required PTE Score', 'Required TOEFL Score', 'Entry Requirement', 'Education Level', 'Course Level', 'Language Taught', 'Intake', 'Duration', 'Start Date', 'Degree Format', 'Location/Campus', 'Annual Tuition Fee', 'Initial Deposit', 'Application Fee', 'Overview', 'Course Structure', 'Year 1', 'Year 2', 'Year 3', 'Year 4', 'Year 5', 'Year 6', 'Career Opportunity 1', 'Career Opportunity 2', 'Career Opportunity 3', 'Career Opportunity 4', 'Career Opportunity 5']"
        ],
        [
         "5",
         "10vEuC8Wbt4Y6aF1phbFAwnuIjLSgXmof",
         "University of Sydney Courses.csv",
         "['Course Link', 'Course Title', 'Required IELTS Score', 'Required PTE Score', 'Required TOEFL Score', 'Entry Requirement', 'Education Level', 'Course Level', 'Intake', 'Duration', 'Start Date', 'Degree Format', 'Location/Campus', 'Annual Tuition Fee', 'Initial Deposit', 'Application Fee', 'Overview', 'Course Structure', 'Year 1', 'Year 2', 'Year 3', 'Year 4', 'Year 5', 'Year 6', 'Career Opportunity 1', 'Career Opportunity 2', 'Career Opportunity 3', 'Career Opportunity 4', 'Career Opportunity 5']"
        ],
        [
         "6",
         "10Xcwi6Qa5dYE4ACsEzAkbFEUvQZBPJ8d",
         "Trent University Courses.csv",
         "['Course Link', 'Course Title', 'Required IELTS Score', 'Required PTE Score', 'Required TOEFL Score', 'Entry Requirement', 'Education Level', 'Course Level', 'Intake', 'Duration', 'Start Date', 'Degree Format', 'Location/Campus', 'Annual Tuition Fee', 'Initial Deposit', 'Application Fee', 'Overview', 'Course Structure', 'Year 1', 'Year 2', 'Year 3', 'Year 4', 'Year 5', 'Year 6', 'Career Opportunity 1', 'Career Opportunity 2', 'Career Opportunity 3', 'Career Opportunity 4', 'Career Opportunity 5']"
        ],
        [
         "7",
         "11-78843GuAEaGclvTN47VfOMk_4iseRX",
         "Liverpool John Moores University Courses.csv",
         "['Course Link', 'Course Title', 'Required IELTS Score', 'Required PTE Score', 'Required TOEFL Score', 'Entry Requirement', 'Education Level', 'Course Level', 'Intake', 'Duration', 'Start Date', 'Degree Format', 'Location/Campus', 'Annual Tuition Fee', 'Initial Deposit', 'Application Fee', 'Overview', 'Course Structure', 'Year 1', 'Year 2', 'Year 3', 'Year 4', 'Year 5', 'Year 6', 'Career Opportunity 1', 'Career Opportunity 2', 'Career Opportunity 3', 'Career Opportunity 4', 'Career Opportunity 5']"
        ],
        [
         "8",
         "11oA98-DasZncQ2Hr0466LAQV15i7XiZ3",
         "CQ University Courses.csv",
         "['Course Link', 'Course Title', 'Required IELTS Score', 'Required PTE Score', 'Required TOEFL Score', 'Entry Requirement', 'Education Level', 'Course Level', 'Intake', 'Duration', 'Start Date', 'Degree Format', 'Location/Campus', 'Annual Tuition Fee', 'Initial Deposit', 'Application Fee', 'Overview', 'Course Structure', 'Year 1', 'Year 2', 'Year 3', 'Year 4', 'Year 5', 'Year 6', 'Career Opportunity 1', 'Career Opportunity 2', 'Career Opportunity 3', 'Career Opportunity 4', 'Career Opportunity 5']"
        ],
        [
         "9",
         "128MrwfNlgOLXhJWSWy19kgJspddtlwbj",
         "University of Missouri Courses.csv",
         "['Course Link', 'Course Title', 'Required IELTS Score', 'Required PTE Score', 'Required TOEFL Score', 'Entry Requirement', 'Education Level', 'Course Level', 'Intake', 'Duration', 'Start Date', 'Degree Format', 'Location/Campus', 'Annual Tuition Fee', 'Initial Deposit', 'Application Fee', 'Overview', 'Course Structure', 'Year 1', 'Year 2', 'Year 3', 'Year 4', 'Year 5', 'Year 6', 'Career Opportunity 1', 'Career Opportunity 2', 'Career Opportunity 3', 'Career Opportunity 4', 'Career Opportunity 5']"
        ],
        [
         "10",
         "12DQpn0qyfAziHBdqZxRXvE13dOFF3ai8",
         "University of Pisa Courses.csv",
         "['Course Link', 'Course Title', 'Required IELTS Score', 'Required PTE Score', 'Required TOEFL Score', 'Entry Requirement', 'Education Level', 'Course Level', 'Intake', 'Duration', 'Start Date', 'Degree Format', 'Location/Campus', 'Annual Tuition Fee', 'Initial Deposit', 'Application Fee', 'Regional Tax Fee', 'Overview', 'Course Structure', 'Year 1', 'Year 2', 'Year 3', 'Year 4', 'Year 5', 'Year 6', 'Career Opportunity 1', 'Career Opportunity 2', 'Career Opportunity 3', 'Career Opportunity 4', 'Career Opportunity 5']"
        ],
        [
         "11",
         "12hdVxOuI5ylBcHtYDShxt76mLlPiKoP4",
         "Georgia State University Courses.csv",
         "['Course Link', 'Course Title', 'Required IELTS Score', 'Required PTE Score', 'Required TOEFL Score', 'Entry Requirement', 'Education Level', 'Course Level', 'Intake', 'Duration', 'Start Date', 'Degree Format', 'Location/Campus', 'Annual Tuition Fee', 'Initial Deposit', 'Application Fee', 'Overview', 'Course Structure', 'Year 1', 'Year 2', 'Year 3', 'Year 4', 'Year 5', 'Year 6', 'Career Opportunity 1', 'Career Opportunity 2', 'Career Opportunity 3', 'Career Opportunity 4', 'Career Opportunity 5']"
        ],
        [
         "12",
         "12HGOYVM59Ea9STLFIH8D20tdyApKfJGl",
         "Technological University Dublin Courses.csv",
         "['Course Link', 'Course Title', 'Required IELTS Score', 'Required PTE Score', 'Required TOEFL Score', 'Entry Requirement', 'Education Level', 'Course Level', 'Intake', 'Duration', 'Start Date', 'Degree Format', 'Location/Campus', 'Annual Tuition Fee', 'Initial Deposit', 'Application Fee', 'Levy Fee', 'Overview', 'Course Structure', 'Year 1', 'Year 2', 'Year 3', 'Year 4', 'Year 5', 'Year 6', 'Career Opportunity 1', 'Career Opportunity 2', 'Career Opportunity 3', 'Career Opportunity 4', 'Career Opportunity 5']"
        ],
        [
         "13",
         "12r4V8E_X6ibED_5azp43D0kPvzmJkZ6P",
         "Pepperdine University Courses.csv",
         "['Course Link', 'Course Title', 'Required IELTS Score', 'Required PTE Score', 'Required TOEFL Score', 'Entry Requirement', 'Education Level', 'Course Level', 'Intake', 'Duration', 'Start Date', 'Degree Format', 'Location/Campus', 'Annual Tuition Fee', 'Initial Deposit', 'Application Fee', 'Overview', 'Course Structure', 'Year 1', 'Year 2', 'Year 3', 'Year 4', 'Year 5', 'Year 6', 'Career Opportunity 1', 'Career Opportunity 2', 'Career Opportunity 3', 'Career Opportunity 4', 'Career Opportunity 5']"
        ],
        [
         "14",
         "12uKbKhr_dU8SKIdDpgdb3AKJVShE_9M0",
         "Johnson and Wales University Courses.csv",
         "['Course Link', 'Course Title', 'Required IELTS Score', 'Required PTE Score', 'Required TOEFL Score', 'Entry Requirement', 'Education Level', 'Course Level', 'Intake', 'Duration', 'Start Date', 'Degree Format', 'Location/Campus', 'Annual Tuition Fee', 'Initial Deposit', 'Application Fee', 'Overview', 'Course Structure', 'Year 1', 'Year 2', 'Year 3', 'Year 4', 'Year 5', 'Year 6', 'Career Opportunity 1', 'Career Opportunity 2', 'Career Opportunity 3', 'Career Opportunity 4', 'Career Opportunity 5']"
        ],
        [
         "15",
         "133Y-yfbjSaLNmSovUXCGqICS80-wwx0f",
         "universityofderby Courses.csv",
         "['Course Link', 'Course Title', 'Required IELTS Score', 'Required PTE Score', 'Required TOEFL Score', 'Entry Requirement', 'Education Level', 'Course Level', 'Intake', 'Duration', 'Start Date', 'Degree Format', 'Location/Campus', 'Annual Tuition Fee', 'Initial Deposit', 'Application Fee', 'Overview', 'Course Structure', 'Year 1', 'Year 2', 'Year 3', 'Year 4', 'Year 5', 'Year 6', 'Career Opportunity 1', 'Career Opportunity 2', 'Career Opportunity 3', 'Career Opportunity 4', 'Career Opportunity 5']"
        ],
        [
         "16",
         "13CAErHmQHNyFj4HjgBZ1I1PZivDJBy5V",
         "University of Colorado Courses.csv",
         "['Course Link', 'Course Title', 'Required IELTS Score', 'Required PTE Score', 'Required TOEFL Score', 'Entry Requirement', 'Education Level', 'Course Level', 'Intake', 'Duration', 'Start Date', 'Degree Format', 'Location/Campus', 'Annual Tuition Fee', 'Initial Deposit', 'Application Fee', 'Overview', 'Course Structure', 'Year 1', 'Year 2', 'Year 3', 'Year 4', 'Year 5', 'Year 6', 'Career Opportunity 1', 'Career Opportunity 2', 'Career Opportunity 3', 'Career Opportunity 4', 'Career Opportunity 5']"
        ],
        [
         "17",
         "13evKbk6405dt5QUCK0kZO1W2WruVEIDS",
         "University of New Mexico Courses.csv",
         "['Course Link', 'Course Title', 'Required IELTS Score', 'Required PTE Score', 'Required TOEFL Score', 'Entry Requirement', 'Education Level', 'Course Level', 'Intake', 'Duration', 'Start Date', 'Degree Format', 'Location/Campus', 'Annual Tuition Fee', 'Initial Deposit', 'Application Fee', 'Overview', 'Course Structure', 'Year 1', 'Year 2', 'Year 3', 'Year 4', 'Year 5', 'Year 6', 'Career Opportunity 1', 'Career Opportunity 2', 'Career Opportunity 3', 'Career Opportunity 4', 'Career Opportunity 5']"
        ],
        [
         "18",
         "13eXhFtZ3z-oS_zSnDItKRvkSJcCizhb8",
         "Macquarie University Courses.csv",
         "['Course Link', 'Course Title', 'Required IELTS Score', 'Required PTE Score', 'Required TOEFL Score', 'Entry Requirement', 'Education Level', 'Course Level', 'Intake', 'Duration', 'Start Date', 'Degree Format', 'Location/Campus', 'Annual Tuition Fee', 'Initial Deposit', 'Application Fee', 'Overview', 'Course Structure', 'Year 1', 'Year 2', 'Year 3', 'Year 4', 'Year 5', 'Year 6', 'Career Opportunity 1', 'Career Opportunity 2', 'Career Opportunity 3', 'Career Opportunity 4', 'Career Opportunity 5']"
        ],
        [
         "19",
         "13FA5qUPhRuxDyyspHfxkDDnm-QR5XkYQ",
         "ferligh Courses.csv",
         "['Course Link', 'Course Title', 'Required IELTS Score', 'Required PTE Score', 'Required TOEFL Score', 'Entry Requirement', 'Education Level', 'Course Level', 'Intake', 'Duration', 'Start Date', 'Degree Format', 'Location/Campus', 'Annual Tuition Fee', 'Initial Deposit', 'Application Fee', 'Overview', 'Course Structure', 'Year 1', 'Year 2', 'Year 3', 'Year 4', 'Year 5', 'Year 6', 'Career Opportunity 1', 'Career Opportunity 2', 'Career Opportunity 3', 'Career Opportunity 4', 'Career Opportunity 5']"
        ],
        [
         "20",
         "13FoRAFHoTmaLiv9o1SI3JQcJ92F6oPY3",
         "Suffolk University Courses.csv",
         "['Course Link', 'Course Title', 'Required IELTS Score', 'Required PTE Score', 'Required TOEFL Score', 'Entry Requirement', 'Education Level', 'Course Level', 'Intake', 'Duration', 'Start Date', 'Degree Format', 'Location/Campus', 'Annual Tuition Fee', 'Initial Deposit', 'Application Fee', 'Overview', 'Course Structure', 'Year 1', 'Year 2', 'Year 3', 'Year 4', 'Year 5', 'Year 6', 'Career Opportunity 1', 'Career Opportunity 2', 'Career Opportunity 3', 'Career Opportunity 4', 'Career Opportunity 5']"
        ],
        [
         "21",
         "13SlNv2tBUOGH9XIDQ6RZRAbQrrV0gwZM",
         "Leeds Trinity University Courses.csv",
         "['Course Link', 'Course Title', 'Required IELTS Score', 'Required PTE Score', 'Required TOEFL Score', 'Entry Requirement', 'Education Level', 'Course Level', 'Intake', 'Duration', 'Start Date', 'Degree Format', 'Location/Campus', 'Annual Tuition Fee', 'Initial Deposit', 'Application Fee', 'Overview', 'Course Structure', 'Year 1', 'Year 2', 'Year 3', 'Year 4', 'Year 5', 'Year 6', 'Career Opportunity 1', 'Career Opportunity 2', 'Career Opportunity 3', 'Career Opportunity 4', 'Career Opportunity 5']"
        ],
        [
         "22",
         "13SyirNikTVbBVLE-_8-jQagfy5hnftzY",
         "Auburn University Courses.csv",
         "['Course Link', 'Course Title', 'Required IELTS Score', 'Required PTE Score', 'Required TOEFL Score', 'Entry Requirement', 'Education Level', 'Course Level', 'Intake', 'Duration', 'Start Date', 'Degree Format', 'Location/Campus', 'Annual Tuition Fee', 'Initial Deposit', 'Application Fee', 'Overview', 'Course Structure', 'Year 1', 'Year 2', 'Year 3', 'Year 4', 'Year 5', 'Year 6', 'Career Opportunity 1', 'Career Opportunity 2', 'Career Opportunity 3', 'Career Opportunity 4', 'Career Opportunity 5']"
        ],
        [
         "23",
         "147l5wXGSqI0P6V_Ow6D2fifeb_lIu7M7",
         "Northeastern University Courses.csv",
         "['Course Link', 'Course Title', 'Required IELTS Score', 'Required PTE Score', 'Required TOEFL Score', 'Entry Requirement', 'Education Level', 'Course Level', 'Intake', 'Duration', 'Start Date', 'Degree Format', 'Location/Campus', 'Annual Tuition Fee', 'Initial Deposit', 'Application Fee', 'Overview', 'Course Structure', 'Year 1', 'Year 2', 'Year 3', 'Year 4', 'Year 5', 'Year 6', 'Career Opportunity 1', 'Career Opportunity 2', 'Career Opportunity 3', 'Career Opportunity 4', 'Career Opportunity 5']"
        ],
        [
         "24",
         "149vH2O8GIedsioIMc8ucJYMUBXsTKGEL",
         "University of Kentucky Courses.csv",
         "['Course Link', 'Course Title', 'Required IELTS Score', 'Required PTE Score', 'Required TOEFL Score', 'Entry Requirement', 'Education Level', 'Course Level', 'Intake', 'Duration', 'Start Date', 'Degree Format', 'Location/Campus', 'Annual Tuition Fee', 'Initial Deposit', 'Application Fee', 'Overview', 'Course Structure', 'Year 1', 'Year 2', 'Year 3', 'Year 4', 'Year 5', 'Year 6', 'Career Opportunity 1', 'Career Opportunity 2', 'Career Opportunity 3', 'Career Opportunity 4', 'Career Opportunity 5']"
        ],
        [
         "25",
         "14EgBF1Ryx34qkZ1C-lgFu0QQlNWQ-F6K",
         "Queen Margaret University Edinburgh Courses.csv",
         "['Course Link', 'Course Title', 'Required IELTS Score', 'Required PTE Score', 'Required TOEFL Score', 'Entry Requirement', 'Education Level', 'Course Level', 'Intake', 'Duration', 'Start Date', 'Degree Format', 'Location/Campus', 'Annual Tuition Fee', 'Initial Deposit', 'Application Fee', 'Overview', 'Course Structure', 'Year 1', 'Year 2', 'Year 3', 'Year 4', 'Year 5', 'Year 6', 'Career Opportunity 1', 'Career Opportunity 2', 'Career Opportunity 3', 'Career Opportunity 4', 'Career Opportunity 5']"
        ],
        [
         "26",
         "14GcYri9cpj2MUNl0hMTyPtR2jkyTzf4A",
         "trento Courses.csv",
         "['Course Link', 'Course Title', 'Required IELTS Score', 'Required PTE Score', 'Required TOEFL Score', 'Entry Requirement', 'Education Level', 'Course Level', 'Intake', 'Duration', 'Start Date', 'Degree Format', 'Location/Campus', 'Annual Tuition Fee', 'Initial Deposit', 'Application Fee', 'Regional Tax Fee', 'Overview', 'Course Structure', 'Year 1', 'Year 2', 'Year 3', 'Year 4', 'Year 5', 'Year 6', 'Career Opportunity 1', 'Career Opportunity 2', 'Career Opportunity 3', 'Career Opportunity 4', 'Career Opportunity 5']"
        ],
        [
         "27",
         "14IzHIquf9zrtr7oSn5RX4nSRILBICCDc",
         "Canadore College Courses.csv",
         "['Course Link', 'Course Title', 'Required IELTS Score', 'Required PTE Score', 'Required TOEFL Score', 'Entry Requirement', 'Education Level', 'Course Level', 'Intake', 'Duration', 'Start Date', 'Degree Format', 'Location/Campus', 'Annual Tuition Fee', 'Initial Deposit', 'Application Fee', 'Overview', 'Course Structure', 'Year 1', 'Year 2', 'Year 3', 'Year 4', 'Year 5', 'Year 6', 'Career Opportunity 1', 'Career Opportunity 2', 'Career Opportunity 3', 'Career Opportunity 4', 'Career Opportunity 5']"
        ],
        [
         "28",
         "14jkB5P0QlVAtQfCNW1YWX2ppe46flh3P",
         "York University Courses.csv",
         "['Course Link', 'Course Title', 'Required IELTS Score', 'Required PTE Score', 'Required TOEFL Score', 'Entry Requirement', 'Education Level', 'Course Level', 'Intake', 'Duration', 'Start Date', 'Degree Format', 'Location/Campus', 'Annual Tuition Fee', 'Initial Deposit', 'Application Fee', 'Overview', 'Course Structure', 'Year 1', 'Year 2', 'Year 3', 'Year 4', 'Year 5', 'Year 6', 'Career Opportunity 1', 'Career Opportunity 2', 'Career Opportunity 3', 'Career Opportunity 4', 'Career Opportunity 5']"
        ],
        [
         "29",
         "14JQNP743s0xukD8CMsQYRd7RpK77mSfV",
         "University of Hertfordshire Courses.csv",
         "['Course Link', 'Course Title', 'Required IELTS Score', 'Required PTE Score', 'Required TOEFL Score', 'Entry Requirement', 'Education Level', 'Course Level', 'Intake', 'Duration', 'Start Date', 'Degree Format', 'Location/Campus', 'Annual Tuition Fee', 'Initial Deposit', 'Application Fee', 'Overview', 'Course Structure', 'Year 1', 'Year 2', 'Year 3', 'Year 4', 'Year 5', 'Year 6', 'Career Opportunity 1', 'Career Opportunity 2', 'Career Opportunity 3', 'Career Opportunity 4', 'Career Opportunity 5']"
        ],
        [
         "30",
         "14LkoFm0RF-Pa8gPfzl6Yt4vQDYOKGdlv",
         "University of Gottingen Courses.csv",
         "['Course Link', 'Course Title', 'Language Taught', 'Required IELTS Score', 'Required PTE Score', 'Required TOEFL Score', 'Entry Requirement', 'Education Level', 'Course Level', 'Intake', 'Duration', 'Start Date', 'Degree Format', 'Location/Campus', 'Annual Tuition Fee', 'Initial Deposit', 'Application Fee', 'Overview', 'Course Structure', 'Year 1', 'Year 2', 'Year 3', 'Year 4', 'Year 5', 'Year 6', 'Career Opportunity 1', 'Career Opportunity 2', 'Career Opportunity 3', 'Career Opportunity 4', 'Career Opportunity 5']"
        ],
        [
         "31",
         "14W2Xb4rhml_4Rbfuq8tLJlHEMGM6iJ0u",
         "Texas State University Courses.csv",
         "['Course Link', 'Course Title', 'Required IELTS Score', 'Required PTE Score', 'Required TOEFL Score', 'Entry Requirement', 'Education Level', 'Course Level', 'Intake', 'Duration', 'Start Date', 'Degree Format', 'Location/Campus', 'Annual Tuition Fee', 'Initial Deposit', 'Application Fee', 'Overview', 'Course Structure', 'Year 1', 'Year 2', 'Year 3', 'Year 4', 'Year 5', 'Year 6', 'Career Opportunity 1', 'Career Opportunity 2', 'Career Opportunity 3', 'Career Opportunity 4', 'Career Opportunity 5']"
        ],
        [
         "32",
         "150m--ZXb0mA_CSdiBwwxQfc2db54bPuu",
         "Avondale University Courses.csv",
         "['Course Link', 'Course Title', 'Required IELTS Score', 'Required PTE Score', 'Required TOEFL Score', 'Entry Requirement', 'Education Level', 'Course Level', 'Intake', 'Duration', 'Start Date', 'Degree Format', 'Location/Campus', 'Annual Tuition Fee', 'Initial Deposit', 'Application Fee', 'Overview', 'Course Structure', 'Year 1', 'Year 2', 'Year 3', 'Year 4', 'Year 5', 'Year 6', 'Career Opportunity 1', 'Career Opportunity 2', 'Career Opportunity 3', 'Career Opportunity 4', 'Career Opportunity 5']"
        ],
        [
         "33",
         "15ErwcAr7g1rEmHOrqA5HBr9AVPLvWbgt",
         "Northumbria University Courses.csv",
         "['Course Link', 'Course Title', 'Required IELTS Score', 'Required PTE Score', 'Required TOEFL Score', 'Entry Requirement', 'Education Level', 'Course Level', 'Intake', 'Duration', 'Start Date', 'Degree Format', 'Location/Campus', 'Annual Tuition Fee', 'Initial Deposit', 'Application Fee', 'Overview', 'Course Structure', 'Year 1', 'Year 2', 'Year 3', 'Year 4', 'Year 5', 'Year 6', 'Career Opportunity 1', 'Career Opportunity 2', 'Career Opportunity 3', 'Career Opportunity 4', 'Career Opportunity 5']"
        ],
        [
         "34",
         "15UTEMiv84mjYDpWITfqOInBVLk4hE8mB",
         "University of Lincoln Courses.csv",
         "['Course Link', 'Course Title', 'Required IELTS Score', 'Required PTE Score', 'Required TOEFL Score', 'Entry Requirement', 'Education Level', 'Course Level', 'Intake', 'Duration', 'Start Date', 'Degree Format', 'Location/Campus', 'Annual Tuition Fee', 'Initial Deposit', 'Application Fee', 'Overview', 'Course Structure', 'Year 1', 'Year 2', 'Year 3', 'Year 4', 'Year 5', 'Year 6', 'Career Opportunity 1', 'Career Opportunity 2', 'Career Opportunity 3', 'Career Opportunity 4', 'Career Opportunity 5']"
        ],
        [
         "35",
         "15xiw7YFhPIadpvSanlLgtNJCMY7YL3Hl",
         "Cranfield University Courses.csv",
         "['Course Link', 'Course Title', 'Required IELTS Score', 'Required PTE Score', 'Required TOEFL Score', 'Entry Requirement', 'Education Level', 'Course Level', 'Intake', 'Duration', 'Start Date', 'Degree Format', 'Location/Campus', 'Annual Tuition Fee', 'Initial Deposit', 'Application Fee', 'Overview', 'Course Structure', 'Year 1', 'Year 2', 'Year 3', 'Year 4', 'Year 5', 'Year 6', 'Career Opportunity 1', 'Career Opportunity 2', 'Career Opportunity 3', 'Career Opportunity 4', 'Career Opportunity 5']"
        ],
        [
         "36",
         "164mSYISU0UEb15x3ZSL18k96WziKZ7v3",
         "University of New Castle Courses.csv",
         "['Course Link', 'Course Title', 'Required IELTS Score', 'Required PTE Score', 'Required TOEFL Score', 'Entry Requirement', 'Education Level', 'Course Level', 'Intake', 'Duration', 'Start Date', 'Degree Format', 'Location/Campus', 'Annual Tuition Fee', 'Initial Deposit', 'Application Fee', 'Overview', 'Course Structure', 'Year 1', 'Year 2', 'Year 3', 'Year 4', 'Year 5', 'Year 6', 'Career Opportunity 1', 'Career Opportunity 2', 'Career Opportunity 3', 'Career Opportunity 4', 'Career Opportunity 5']"
        ],
        [
         "37",
         "166F-XIt7Uw1hxQwJqpV-xAWBRorao9Ll",
         "Liverpool Hope University Courses.csv",
         "['Course Link', 'Course Title', 'Required IELTS Score', 'Required PTE Score', 'Required TOEFL Score', 'Entry Requirement', 'Education Level', 'Course Level', 'Intake', 'Duration', 'Start Date', 'Degree Format', 'Location/Campus', 'Annual Tuition Fee', 'Initial Deposit', 'Application Fee', 'Overview', 'Course Structure', 'Year 1', 'Year 2', 'Year 3', 'Year 4', 'Year 5', 'Year 6', 'Career Opportunity 1', 'Career Opportunity 2', 'Career Opportunity 3', 'Career Opportunity 4', 'Career Opportunity 5']"
        ],
        [
         "38",
         "16Gh16u59Z7xU3_Lux2akYLj7PjTuof4o",
         "Johns Hopkins University Courses.csv",
         "['Course Link', 'Course Title', 'Required IELTS Score', 'Required PTE Score', 'Required TOEFL Score', 'Entry Requirement', 'Education Level', 'Course Level', 'Intake', 'Duration', 'Start Date', 'Degree Format', 'Location/Campus', 'Annual Tuition Fee', 'Initial Deposit', 'Application Fee', 'Overview', 'Course Structure', 'Year 1', 'Year 2', 'Year 3', 'Year 4', 'Year 5', 'Year 6', 'Career Opportunity 1', 'Career Opportunity 2', 'Career Opportunity 3', 'Career Opportunity 4', 'Career Opportunity 5']"
        ],
        [
         "39",
         "16g_UYmwFTgzILynqMuItnppKQ0tPJzaV",
         "University of Tasmania Courses.csv",
         "['Course Link', 'Course Title', 'Required IELTS Score', 'Required PTE Score', 'Required TOEFL Score', 'Entry Requirement', 'Education Level', 'Course Level', 'Intake', 'Duration', 'Start Date', 'Degree Format', 'Location/Campus', 'Annual Tuition Fee', 'Initial Deposit', 'Application Fee', 'Overview', 'Course Structure', 'Year 1', 'Year 2', 'Year 3', 'Year 4', 'Year 5', 'Year 6', 'Career Opportunity 1', 'Career Opportunity 2', 'Career Opportunity 3', 'Career Opportunity 4', 'Career Opportunity 5']"
        ],
        [
         "40",
         "16jxPKgtm0io6IamYI83PW9y1Je4Pg5DI",
         "Niagara University Courses.csv",
         "['Course Link', 'Course Title', 'Required IELTS Score', 'Required PTE Score', 'Required TOEFL Score', 'Entry Requirement', 'Education Level', 'Course Level', 'Intake', 'Duration', 'Start Date', 'Degree Format', 'Location/Campus', 'Annual Tuition Fee', 'Initial Deposit', 'Application Fee', 'Overview', 'Course Structure', 'Year 1', 'Year 2', 'Year 3', 'Year 4', 'Year 5', 'Year 6', 'Career Opportunity 1', 'Career Opportunity 2', 'Career Opportunity 3', 'Career Opportunity 4', 'Career Opportunity 5']"
        ],
        [
         "41",
         "16kc0im08lGGkVpwHFWhNFhaJj6d4-EBJ",
         "University of Florence Courses.csv",
         "['Course Link', 'Course Title', 'Required IELTS Score', 'Required PTE Score', 'Required TOEFL Score', 'Entry Requirement', 'Education Level', 'Course Level', 'Intake', 'Duration', 'Start Date', 'Degree Format', 'Location/Campus', 'Annual Tuition Fee', 'Initial Deposit', 'Application Fee', 'Regional Tax Fee', 'Overview', 'Course Structure', 'Year 1', 'Year 2', 'Year 3', 'Year 4', 'Year 5', 'Year 6', 'Career Opportunity 1', 'Career Opportunity 2', 'Career Opportunity 3', 'Career Opportunity 4', 'Career Opportunity 5']"
        ],
        [
         "42",
         "16tDbcHZRqUKOGvcmMNliA0ad3bjrvLZF",
         "Edith Cowan University Courses.csv",
         "['Course Link', 'Course Title', 'Required IELTS Score', 'Required PTE Score', 'Required TOEFL Score', 'Entry Requirement', 'Education Level', 'Course Level', 'Intake', 'Duration', 'Start Date', 'Degree Format', 'Location/Campus', 'Annual Tuition Fee', 'Initial Deposit', 'Application Fee', 'Overview', 'Course Structure', 'Year 1', 'Year 2', 'Year 3', 'Year 4', 'Year 5', 'Year 6', 'Career Opportunity 1', 'Career Opportunity 2', 'Career Opportunity 3', 'Career Opportunity 4', 'Career Opportunity 5']"
        ],
        [
         "43",
         "16VxksViyFEn7OokkxjUgkQhXBgFMyTHd",
         "De Montfort University Leicester Courses.csv",
         "['Course Link', 'Course Title', 'Required IELTS Score', 'Required PTE Score', 'Required TOEFL Score', 'Entry Requirement', 'Education Level', 'Course Level', 'Intake', 'Duration', 'Start Date', 'Degree Format', 'Location/Campus', 'Annual Tuition Fee', 'Initial Deposit', 'Application Fee', 'Overview', 'Course Structure', 'Year 1', 'Year 2', 'Year 3', 'Year 4', 'Year 5', 'Year 6', 'Career Opportunity 1', 'Career Opportunity 2', 'Career Opportunity 3', 'Career Opportunity 4', 'Career Opportunity 5']"
        ],
        [
         "44",
         "170kdoxtggdqmsGKo5TZhw3k-ou_H_bWx",
         "Kent State University Courses.csv",
         "['Course Link', 'Course Title', 'Required IELTS Score', 'Required PTE Score', 'Required TOEFL Score', 'Entry Requirement', 'Education Level', 'Course Level', 'Intake', 'Duration', 'Start Date', 'Degree Format', 'Location/Campus', 'Annual Tuition Fee', 'Initial Deposit', 'Application Fee', 'Overview', 'Course Structure', 'Year 1', 'Year 2', 'Year 3', 'Year 4', 'Year 5', 'Year 6', 'Career Opportunity 1', 'Career Opportunity 2', 'Career Opportunity 3', 'Career Opportunity 4', 'Career Opportunity 5']"
        ],
        [
         "45",
         "17eMPahLNesfQrZu7Ek8nw_EDLZyn9EDx",
         "Missouri University of Science and Technology Courses.csv",
         "['Course Link', 'Course Title', 'Required IELTS Score', 'Required PTE Score', 'Required TOEFL Score', 'Entry Requirement', 'Education Level', 'Course Level', 'Intake', 'Duration', 'Start Date', 'Degree Format', 'Location/Campus', 'Annual Tuition Fee', 'Initial Deposit', 'Application Fee', 'Overview', 'Course Structure', 'Year 1', 'Year 2', 'Year 3', 'Year 4', 'Year 5', 'Year 6', 'Career Opportunity 1', 'Career Opportunity 2', 'Career Opportunity 3', 'Career Opportunity 4', 'Career Opportunity 5']"
        ],
        [
         "46",
         "17mR6G8_Scy4cBAsCYTYbZsVBLto4GqSW",
         "Arden University Courses.csv",
         "['Course Link', 'Course Title', 'Language Taught', 'Required IELTS Score', 'Required PTE Score', 'Required TOEFL Score', 'Entry Requirement', 'Education Level', 'Course Level', 'Intake', 'Duration', 'Start Date', 'Degree Format', 'Location/Campus', 'Annual Tuition Fee', 'Initial Deposit', 'Application Fee', 'Overview', 'Course Structure', 'Year 1', 'Year 2', 'Year 3', 'Year 4', 'Year 5', 'Year 6', 'Career Opportunity 1', 'Career Opportunity 2', 'Career Opportunity 3', 'Career Opportunity 4', 'Career Opportunity 5']"
        ],
        [
         "47",
         "17qxov-f9gUhz3gxHqG9WuLsGSRdWQ9j-",
         "University of Southern Queensland Courses.csv",
         "['Course Link', 'Course Title', 'Required IELTS Score', 'Required PTE Score', 'Required TOEFL Score', 'Entry Requirement', 'Education Level', 'Course Level', 'Intake', 'Duration', 'Start Date', 'Degree Format', 'Location/Campus', 'Annual Tuition Fee', 'Initial Deposit', 'Application Fee', 'Overview', 'Course Structure', 'Year 1', 'Year 2', 'Year 3', 'Year 4', 'Year 5', 'Year 6', 'Career Opportunity 1', 'Career Opportunity 2', 'Career Opportunity 3', 'Career Opportunity 4', 'Career Opportunity 5']"
        ],
        [
         "48",
         "17vKOXh4EMKKPvfWnuxJlQ9NQSex5I4GR",
         "Ara Institute of Canterbury Courses.csv",
         "['Course Link', 'Course Title', 'Required IELTS Score', 'Required PTE Score', 'Required TOEFL Score', 'Entry Requirement', 'Education Level', 'Course Level', 'Intake', 'Duration', 'Start Date', 'Degree Format', 'Location/Campus', 'Annual Tuition Fee', 'Initial Deposit', 'Application Fee', 'Overview', 'Course Structure', 'Year 1', 'Year 2', 'Year 3', 'Year 4', 'Year 5', 'Year 6', 'Career Opportunity 1', 'Career Opportunity 2', 'Career Opportunity 3', 'Career Opportunity 4', 'Career Opportunity 5']"
        ],
        [
         "49",
         "17WlYbXh-R_8jvutx7KXTb0G5Rr8Yy0Id",
         "University of North Florida Courses.csv",
         "['Course Link', 'Course Title', 'Required IELTS Score', 'Required PTE Score', 'Required TOEFL Score', 'Entry Requirement', 'Education Level', 'Course Level', 'Intake', 'Duration', 'Start Date', 'Degree Format', 'Location/Campus', 'Annual Tuition Fee', 'Initial Deposit', 'Application Fee', 'Overview', 'Course Structure', 'Year 1', 'Year 2', 'Year 3', 'Year 4', 'Year 5', 'Year 6', 'Career Opportunity 1', 'Career Opportunity 2', 'Career Opportunity 3', 'Career Opportunity 4', 'Career Opportunity 5']"
        ]
       ],
       "shape": {
        "columns": 3,
        "rows": 352
       }
      },
      "text/html": [
       "<div>\n",
       "<style scoped>\n",
       "    .dataframe tbody tr th:only-of-type {\n",
       "        vertical-align: middle;\n",
       "    }\n",
       "\n",
       "    .dataframe tbody tr th {\n",
       "        vertical-align: top;\n",
       "    }\n",
       "\n",
       "    .dataframe thead th {\n",
       "        text-align: right;\n",
       "    }\n",
       "</style>\n",
       "<table border=\"1\" class=\"dataframe\">\n",
       "  <thead>\n",
       "    <tr style=\"text-align: right;\">\n",
       "      <th></th>\n",
       "      <th>Folder</th>\n",
       "      <th>CSV_File</th>\n",
       "      <th>Headers</th>\n",
       "    </tr>\n",
       "  </thead>\n",
       "  <tbody>\n",
       "    <tr>\n",
       "      <th>0</th>\n",
       "      <td>1-aZqxTN1RpLwmfwxeGCMvmDiZo5mpKsS</td>\n",
       "      <td>Okanagan College Courses.csv</td>\n",
       "      <td>[Course Link, Course Title, Required IELTS Sco...</td>\n",
       "    </tr>\n",
       "    <tr>\n",
       "      <th>1</th>\n",
       "      <td>1-pYDlcnnI_ZsHLcBnRMNjrCZZIW3HAk4</td>\n",
       "      <td>University of Rhode Island Courses.csv</td>\n",
       "      <td>[Course Link, Course Title, Required IELTS Sco...</td>\n",
       "    </tr>\n",
       "    <tr>\n",
       "      <th>2</th>\n",
       "      <td>1-xfPxe6bhebWSWOJX22RVyPqNqveQZDq</td>\n",
       "      <td>Craleton University Courses.csv</td>\n",
       "      <td>[Course Link, Course Title, Required IELTS Sco...</td>\n",
       "    </tr>\n",
       "    <tr>\n",
       "      <th>3</th>\n",
       "      <td>1-Y5aXdseCkhY_AiqhIFmQcSl4xGbWOGV</td>\n",
       "      <td>University of Bologna Courses.csv</td>\n",
       "      <td>[Course Link, Course Title, Required IELTS Sco...</td>\n",
       "    </tr>\n",
       "    <tr>\n",
       "      <th>4</th>\n",
       "      <td>10IZEzyvflhrSY3BU-6cGpvz7QWdMVR9O</td>\n",
       "      <td>Free University of Berlin Courses.csv</td>\n",
       "      <td>[Course Link, Course Title, Required IELTS Sco...</td>\n",
       "    </tr>\n",
       "    <tr>\n",
       "      <th>...</th>\n",
       "      <td>...</td>\n",
       "      <td>...</td>\n",
       "      <td>...</td>\n",
       "    </tr>\n",
       "    <tr>\n",
       "      <th>347</th>\n",
       "      <td>University of Galway</td>\n",
       "      <td>University of Galway.csv</td>\n",
       "      <td>[Course Link, Course Title, Required IELTS Sco...</td>\n",
       "    </tr>\n",
       "    <tr>\n",
       "      <th>348</th>\n",
       "      <td>University of Lethbridge</td>\n",
       "      <td>University of Lethbridge.csv</td>\n",
       "      <td>[Course Link, Course Title, Required IELTS Sco...</td>\n",
       "    </tr>\n",
       "    <tr>\n",
       "      <th>349</th>\n",
       "      <td>University of Limerick</td>\n",
       "      <td>University of Limerick.csv</td>\n",
       "      <td>[Course Link, Course Title, Required IELTS Sco...</td>\n",
       "    </tr>\n",
       "    <tr>\n",
       "      <th>350</th>\n",
       "      <td>University of New Burnswick</td>\n",
       "      <td>University of New Burnswick.csv</td>\n",
       "      <td>[Course Link, Course Title, Required IELTS Sco...</td>\n",
       "    </tr>\n",
       "    <tr>\n",
       "      <th>351</th>\n",
       "      <td>University of Waikato</td>\n",
       "      <td>University of Waikato.csv</td>\n",
       "      <td>[Course Link, Course Title, Required IELTS Sco...</td>\n",
       "    </tr>\n",
       "  </tbody>\n",
       "</table>\n",
       "<p>352 rows × 3 columns</p>\n",
       "</div>"
      ],
      "text/plain": [
       "                                Folder  \\\n",
       "0    1-aZqxTN1RpLwmfwxeGCMvmDiZo5mpKsS   \n",
       "1    1-pYDlcnnI_ZsHLcBnRMNjrCZZIW3HAk4   \n",
       "2    1-xfPxe6bhebWSWOJX22RVyPqNqveQZDq   \n",
       "3    1-Y5aXdseCkhY_AiqhIFmQcSl4xGbWOGV   \n",
       "4    10IZEzyvflhrSY3BU-6cGpvz7QWdMVR9O   \n",
       "..                                 ...   \n",
       "347               University of Galway   \n",
       "348           University of Lethbridge   \n",
       "349             University of Limerick   \n",
       "350        University of New Burnswick   \n",
       "351              University of Waikato   \n",
       "\n",
       "                                   CSV_File  \\\n",
       "0              Okanagan College Courses.csv   \n",
       "1    University of Rhode Island Courses.csv   \n",
       "2           Craleton University Courses.csv   \n",
       "3         University of Bologna Courses.csv   \n",
       "4     Free University of Berlin Courses.csv   \n",
       "..                                      ...   \n",
       "347                University of Galway.csv   \n",
       "348            University of Lethbridge.csv   \n",
       "349              University of Limerick.csv   \n",
       "350         University of New Burnswick.csv   \n",
       "351               University of Waikato.csv   \n",
       "\n",
       "                                               Headers  \n",
       "0    [Course Link, Course Title, Required IELTS Sco...  \n",
       "1    [Course Link, Course Title, Required IELTS Sco...  \n",
       "2    [Course Link, Course Title, Required IELTS Sco...  \n",
       "3    [Course Link, Course Title, Required IELTS Sco...  \n",
       "4    [Course Link, Course Title, Required IELTS Sco...  \n",
       "..                                                 ...  \n",
       "347  [Course Link, Course Title, Required IELTS Sco...  \n",
       "348  [Course Link, Course Title, Required IELTS Sco...  \n",
       "349  [Course Link, Course Title, Required IELTS Sco...  \n",
       "350  [Course Link, Course Title, Required IELTS Sco...  \n",
       "351  [Course Link, Course Title, Required IELTS Sco...  \n",
       "\n",
       "[352 rows x 3 columns]"
      ]
     },
     "metadata": {},
     "output_type": "display_data"
    }
   ],
   "source": [
    "import os\n",
    "import pandas as pd\n",
    "import re\n",
    "from IPython.display import display\n",
    "\n",
    "# ---------------------------\n",
    "# Utility: Check if string looks like a link\n",
    "# ---------------------------\n",
    "\n",
    "\n",
    "def is_link(value: str) -> bool:\n",
    "    if pd.isna(value):\n",
    "        return False\n",
    "    return bool(re.match(r'^https?://', str(value).strip()))\n",
    "\n",
    "\n",
    "# ---------------------------\n",
    "# Validate output folders (basic checks: file count, empty)\n",
    "# ---------------------------\n",
    "def validate_output(output_base: str):\n",
    "    report_data = []\n",
    "\n",
    "    for folder_name in os.listdir(output_base):\n",
    "        folder_path = os.path.join(output_base, folder_name)\n",
    "        if not os.path.isdir(folder_path):\n",
    "            continue\n",
    "\n",
    "        # Collect CSVs in this folder\n",
    "        csv_files = [f for f in os.listdir(\n",
    "            folder_path) if f.lower().endswith(\".csv\")]\n",
    "        csv_count = len(csv_files)\n",
    "\n",
    "        # Default status\n",
    "        status = \"GOOD\" if csv_count == 1 else \"BAD\"\n",
    "        note = \"\"\n",
    "\n",
    "        if csv_count == 0:\n",
    "            note = \"No CSV found\"\n",
    "        elif csv_count > 1:\n",
    "            note = f\"Multiple CSVs found ({csv_count})\"\n",
    "\n",
    "        # Empty file check\n",
    "        for csv_file in csv_files:\n",
    "            csv_path = os.path.join(folder_path, csv_file)\n",
    "            if os.path.getsize(csv_path) == 0:\n",
    "                status = \"BAD\"\n",
    "                note += f\" | Empty file: {csv_file}\"\n",
    "\n",
    "        report_data.append({\n",
    "            \"Folder\": folder_name,\n",
    "            \"CSV_Files\": \", \".join(csv_files) if csv_files else \"None\",\n",
    "            \"CSV_Count\": csv_count,\n",
    "            \"Status\": status,\n",
    "            \"Notes\": note.strip(\" |\")\n",
    "        })\n",
    "\n",
    "    df_report = pd.DataFrame(report_data)\n",
    "    print(\"📑 Folder Validation Report\")\n",
    "    display(df_report)\n",
    "    return df_report\n",
    "\n",
    "\n",
    "# ---------------------------\n",
    "# Validate CSV contents (links + empty check in first column)\n",
    "# ---------------------------\n",
    "def validate_csv_contents(output_base: str):\n",
    "    content_issues = []\n",
    "    headers_collection = []\n",
    "\n",
    "    for folder_name in os.listdir(output_base):\n",
    "        folder_path = os.path.join(output_base, folder_name)\n",
    "        if not os.path.isdir(folder_path):\n",
    "            continue\n",
    "\n",
    "        csv_files = [f for f in os.listdir(\n",
    "            folder_path) if f.lower().endswith(\".csv\")]\n",
    "        for csv_file in csv_files:\n",
    "            csv_path = os.path.join(folder_path, csv_file)\n",
    "\n",
    "            try:\n",
    "                try:\n",
    "                    df = pd.read_csv(csv_path, encoding=\"utf-8\")\n",
    "                except UnicodeDecodeError:\n",
    "                    df = pd.read_csv(csv_path, encoding=\"latin1\")\n",
    "\n",
    "                # Collect headers\n",
    "                headers_collection.append({\n",
    "                    \"Folder\": folder_name,\n",
    "                    \"CSV_File\": csv_file,\n",
    "                    \"Headers\": list(df.columns)\n",
    "                })\n",
    "\n",
    "                if df.shape[1] > 0:\n",
    "                    first_col = df.iloc[:, 0]\n",
    "\n",
    "                    # Check for empty values (excluding header)\n",
    "                    empty_count = first_col.isna().sum()\n",
    "                    if empty_count > 0:\n",
    "                        content_issues.append({\n",
    "                            \"Folder\": folder_name,\n",
    "                            \"CSV_File\": csv_file,\n",
    "                            \"Issue\": f\"{empty_count} empty values in first column\"\n",
    "                        })\n",
    "\n",
    "                    # Check for invalid (non-link) values\n",
    "                    invalid = [v for v in first_col.dropna() if not is_link(v)]\n",
    "                    if invalid:\n",
    "                        content_issues.append({\n",
    "                            \"Folder\": folder_name,\n",
    "                            \"CSV_File\": csv_file,\n",
    "                            \"Issue\": f\"{len(invalid)} non-link values in first column\"\n",
    "                        })\n",
    "\n",
    "            except Exception as e:\n",
    "                content_issues.append({\n",
    "                    \"Folder\": folder_name,\n",
    "                    \"CSV_File\": csv_file,\n",
    "                    \"Issue\": f\"Failed to read CSV - {str(e)}\"\n",
    "                })\n",
    "\n",
    "    # Build DataFrames\n",
    "    df_issues = pd.DataFrame(content_issues)\n",
    "    df_headers = pd.DataFrame(headers_collection)\n",
    "\n",
    "    print(\"⚠️ Content Validation Issues\")\n",
    "    display(df_issues if not df_issues.empty else pd.DataFrame(\n",
    "        [{\"Status\": \"No issues found ✅\"}]))\n",
    "\n",
    "    print(\"\\n📊 CSV Headers Overview\")\n",
    "    display(df_headers)\n",
    "\n",
    "    return df_issues, df_headers\n",
    "\n",
    "\n",
    "# ---------------------------\n",
    "# Run full validation\n",
    "# ---------------------------\n",
    "OUTPUT_DIR = \"Downloaded_Universities\"\n",
    "\n",
    "# Step 1: Validate folder/file structure\n",
    "df_report = validate_output(OUTPUT_DIR)\n",
    "\n",
    "# Step 2: Validate CSV contents\n",
    "df_issues, df_headers = validate_csv_contents(OUTPUT_DIR)"
   ]
  },
  {
   "cell_type": "code",
   "execution_count": null,
   "id": "342f2470",
   "metadata": {},
   "outputs": [],
   "source": []
  }
 ],
 "metadata": {
  "kernelspec": {
   "display_name": "Python 3",
   "language": "python",
   "name": "python3"
  },
  "language_info": {
   "codemirror_mode": {
    "name": "ipython",
    "version": 3
   },
   "file_extension": ".py",
   "mimetype": "text/x-python",
   "name": "python",
   "nbconvert_exporter": "python",
   "pygments_lexer": "ipython3",
   "version": "3.13.2"
  }
 },
 "nbformat": 4,
 "nbformat_minor": 5
}
