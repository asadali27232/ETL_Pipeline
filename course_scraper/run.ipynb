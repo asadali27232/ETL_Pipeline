{
 "cells": [
  {
   "cell_type": "code",
   "execution_count": null,
   "id": "fcee2d8a",
   "metadata": {},
   "outputs": [
    {
     "name": "stdout",
     "output_type": "stream",
     "text": [
      "\n",
      "🚀 Running spider for: Abertay University.csv\n"
     ]
    }
   ],
   "source": [
    "import os\n",
    "import shutil\n",
    "import subprocess\n",
    "\n",
    "INPUT_DIR = \"Downloaded_Universities\"\n",
    "PROCESSED_DIR = os.path.join(INPUT_DIR, \"processed_csvs\")\n",
    "os.makedirs(PROCESSED_DIR, exist_ok=True)\n",
    "\n",
    "\n",
    "def run_spider_on_csvs():\n",
    "    csv_files = [f for f in os.listdir(\n",
    "        INPUT_DIR) if f.lower().endswith(\".csv\")]\n",
    "\n",
    "    for csv_file in csv_files:\n",
    "        csv_path = os.path.join(INPUT_DIR, csv_file)\n",
    "        print(f\"🚀 Running spider for: {csv_file}\")\n",
    "\n",
    "        try:\n",
    "            subprocess.run([\n",
    "                \"python\", \"-m\", \"scrapy\", \"crawl\", \"courses\", f\"-a\", f\"csv_file={csv_path}\"\n",
    "            ], check=True)\n",
    "\n",
    "            # ✅ Move processed CSV immediately\n",
    "            shutil.move(csv_path, os.path.join(PROCESSED_DIR, csv_file))\n",
    "            print(f\"✅ Finished and moved: {csv_file}\")\n",
    "\n",
    "        except subprocess.CalledProcessError as e:\n",
    "            print(f\"❌ Spider failed for {csv_file}: {e}\")"
   ]
  },
  {
   "cell_type": "code",
   "execution_count": null,
   "id": "1fdeb4d1",
   "metadata": {},
   "outputs": [],
   "source": []
  }
 ],
 "metadata": {
  "kernelspec": {
   "display_name": "Python 3",
   "language": "python",
   "name": "python3"
  },
  "language_info": {
   "codemirror_mode": {
    "name": "ipython",
    "version": 3
   },
   "file_extension": ".py",
   "mimetype": "text/x-python",
   "name": "python",
   "nbconvert_exporter": "python",
   "pygments_lexer": "ipython3",
   "version": "3.13.2"
  }
 },
 "nbformat": 4,
 "nbformat_minor": 5
}
