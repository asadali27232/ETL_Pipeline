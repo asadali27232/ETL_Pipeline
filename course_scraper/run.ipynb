{
 "cells": [
  {
   "cell_type": "code",
   "execution_count": null,
   "id": "fcee2d8a",
   "metadata": {},
   "outputs": [
    {
     "name": "stdout",
     "output_type": "stream",
     "text": [
      "\n",
      "🚀 Running spider for: Abertay University.csv\n"
     ]
    }
   ],
   "source": [
    "import os\n",
    "import sys\n",
    "import subprocess\n",
    "\n",
    "# Path to your CSVs folder\n",
    "CSV_FOLDER = \"Downloaded_Universities\"\n",
    "\n",
    "\n",
    "def run_spider_on_csvs():\n",
    "    if not os.path.exists(CSV_FOLDER):\n",
    "        print(f\"❌ Folder not found: {CSV_FOLDER}\")\n",
    "        sys.exit(1)\n",
    "\n",
    "    csv_files = [f for f in os.listdir(CSV_FOLDER) if f.endswith(\".csv\")]\n",
    "    if not csv_files:\n",
    "        print(\"⚠️ No CSV files found in the folder.\")\n",
    "        return\n",
    "\n",
    "    for csv_file in csv_files:\n",
    "        csv_path = os.path.join(CSV_FOLDER, csv_file)\n",
    "        print(f\"\\n🚀 Running spider for: {csv_file}\")\n",
    "\n",
    "        try:\n",
    "            cmd = f'python -m scrapy crawl courses -a csv_file=\"{csv_path}\"'\n",
    "            subprocess.run(cmd, shell=True, check=True)\n",
    "\n",
    "        except subprocess.CalledProcessError as e:\n",
    "            print(f\"❌ Spider failed for {csv_file}: {e}\")\n",
    "        except Exception as e:\n",
    "            print(f\"❌ Unexpected error for {csv_file}: {e}\")\n",
    "\n",
    "    print(\"\\n✅ All CSVs processed.\")\n",
    "\n",
    "\n",
    "if __name__ == \"__main__\":\n",
    "    run_spider_on_csvs()"
   ]
  },
  {
   "cell_type": "code",
   "execution_count": null,
   "id": "1fdeb4d1",
   "metadata": {},
   "outputs": [],
   "source": []
  }
 ],
 "metadata": {
  "kernelspec": {
   "display_name": "Python 3",
   "language": "python",
   "name": "python3"
  },
  "language_info": {
   "codemirror_mode": {
    "name": "ipython",
    "version": 3
   },
   "file_extension": ".py",
   "mimetype": "text/x-python",
   "name": "python",
   "nbconvert_exporter": "python",
   "pygments_lexer": "ipython3",
   "version": "3.13.2"
  }
 },
 "nbformat": 4,
 "nbformat_minor": 5
}
